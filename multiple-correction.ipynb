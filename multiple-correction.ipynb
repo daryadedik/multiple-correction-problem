{
 "cells": [
  {
   "cell_type": "code",
   "execution_count": 654,
   "metadata": {
    "collapsed": true
   },
   "outputs": [],
   "source": [
    "import numpy as np\n",
    "import pandas as pd\n",
    "import scipy.stats as st\n",
    "import statsmodels.stats.multitest as smm\n",
    "import matplotlib.pyplot as plt\n",
    "\n",
    "import seaborn as sns\n",
    "sns.set(color_codes=True)"
   ]
  },
  {
   "cell_type": "code",
   "execution_count": 655,
   "metadata": {
    "collapsed": true
   },
   "outputs": [],
   "source": [
    "def print_error_rates(test, start):\n",
    "    print(\"True: %d\" % sum([t for t in test[start:900]]))\n",
    "    print(\"False: %d\" % sum([not t for t in test[start:900]]))\n",
    "\n",
    "    print(\"True: %d\" % sum([t for t in test[900:]]))\n",
    "    print(\"False: %d\" % sum([not t for t in test[900:]]))\n",
    "    \n",
    "    print(\"Type I error rate (false positives): %.4f\" % (sum([not t for t in test[start:900+start]]) / 900.))\n",
    "    print(\"Type II error rate (false negatives): %.4f\" % (sum([t for t in test[900+start:]]) / 100.))"
   ]
  },
  {
   "cell_type": "markdown",
   "metadata": {},
   "source": [
    "Here we want to have a first look on the multiple correction problem on a set of 1000 simulated experiments. We generate 1000 random variables where 900 random variables are from standard normal distribution with mean 0 and 100 - with the mean 3. We use the random normals in such a way that we’ll know what the result of each hypothesis test should be."
   ]
  },
  {
   "cell_type": "markdown",
   "metadata": {},
   "source": [
    "### Simulated data"
   ]
  },
  {
   "cell_type": "markdown",
   "metadata": {},
   "source": [
    "Here we test a simulated hypothesis based on the data drown from standard normal distribution.\n",
    "\n",
    "<b>H0</b>: value of x is not different from 0\n",
    "\n",
    "<b>H1</b>: value of x is larger than 0\n",
    "\n",
    "The first 900 observations should fail to reject the null hypothesis: they are drawn from a standard normal distribution (mean 0) and any 2 difference between the observed value and 0 is just due to chance. \n",
    "\n",
    "The last 100 observations should reject the null hypothesis: the difference between these values and 0 is not due to\n",
    "chance alone."
   ]
  },
  {
   "cell_type": "code",
   "execution_count": 656,
   "metadata": {
    "collapsed": true
   },
   "outputs": [],
   "source": [
    "numtests = 1000\n",
    "alpha = 0.05\n",
    "\n",
    "np.random.seed(42)"
   ]
  },
  {
   "cell_type": "markdown",
   "metadata": {},
   "source": [
    "### Problem"
   ]
  },
  {
   "cell_type": "markdown",
   "metadata": {},
   "source": [
    "In many science applications, the alpha level, or Type I error rate, is set to 0.05. This means that the researcher is willing to commit a Type I error 5% of the time. But when we move to a problem of multiple comparisons, the alpha level is no longer valid.\n",
    "For example, if we use the conventional significance level of 0.05 for 1000 tests, then there is 100% chance that we reject at least one true null hypothesis.\n",
    "\n",
    "* alpha : probability of rejecting true hypothesis for one test\n",
    "* (1 - alpha) : probability of not rejecting true hypothesis for one test\n",
    "* (1 - alpha)^m : probability of not rejecting m true hypothesis (we have m tests)\n",
    "* (1 - (1 - alpha)^m) : probability of rejecting at least one out of m true null hypotheses"
   ]
  },
  {
   "cell_type": "code",
   "execution_count": 657,
   "metadata": {},
   "outputs": [
    {
     "data": {
      "text/plain": [
       "1.0"
      ]
     },
     "execution_count": 657,
     "metadata": {},
     "output_type": "execute_result"
    }
   ],
   "source": [
    "1-(1-alpha)**numtests"
   ]
  },
  {
   "cell_type": "code",
   "execution_count": 658,
   "metadata": {},
   "outputs": [
    {
     "name": "stdout",
     "output_type": "stream",
     "text": [
      "[ 0.49671415 -0.1382643   0.64768854  1.52302986 -0.23415337 -0.23413696\n",
      "  1.57921282  0.76743473 -0.46947439  0.54256004]\n"
     ]
    }
   ],
   "source": [
    "data1= st.norm.rvs(0, 1, size=900)\n",
    "data2 = st.norm.rvs(3, 1, size=100)\n",
    "data = np.concatenate((data1, data2), axis=0)\n",
    "print(data[:10])"
   ]
  },
  {
   "cell_type": "code",
   "execution_count": 659,
   "metadata": {},
   "outputs": [
    {
     "data": {
      "image/png": "[encoded data removed]",
      "text/plain": [
       "<matplotlib.figure.Figure at 0x11642a750>"
      ]
     },
     "metadata": {},
     "output_type": "display_data"
    }
   ],
   "source": [
    "fig, ax = plt.subplots(1, 1)\n",
    "ax.hist(data2, normed=True, histtype='stepfilled', alpha=0.2)\n",
    "plt.show()"
   ]
  },
  {
   "cell_type": "code",
   "execution_count": 660,
   "metadata": {},
   "outputs": [
    {
     "name": "stdout",
     "output_type": "stream",
     "text": [
      "[ 0.35264231  0.39514715  0.32345711  0.12508666  0.38815426  0.38815575\n",
      "  0.11464727  0.29718021  0.35731354  0.34434052]\n"
     ]
    }
   ],
   "source": [
    "prob = st.norm.pdf(data)\n",
    "print(prob[:10])"
   ]
  },
  {
   "cell_type": "code",
   "execution_count": 661,
   "metadata": {},
   "outputs": [
    {
     "name": "stdout",
     "output_type": "stream",
     "text": [
      "[ True  True  True  True  True  True  True  True  True  True  True  True\n",
      "  True  True  True  True  True  True  True  True  True  True  True  True\n",
      "  True  True  True  True  True  True  True  True  True  True  True  True\n",
      "  True  True  True  True  True  True  True  True  True  True  True  True\n",
      "  True  True  True  True  True  True  True  True  True  True  True  True\n",
      "  True  True  True  True  True  True  True  True  True  True  True  True\n",
      "  True  True False  True  True  True  True  True  True  True  True  True\n",
      "  True  True  True  True  True  True  True  True  True  True  True  True\n",
      "  True  True  True  True]\n"
     ]
    }
   ],
   "source": [
    "test = prob > alpha\n",
    "print(test[:100])"
   ]
  },
  {
   "cell_type": "code",
   "execution_count": 662,
   "metadata": {},
   "outputs": [
    {
     "name": "stdout",
     "output_type": "stream",
     "text": [
      "True: 865\n",
      "False: 35\n",
      "True: 18\n",
      "False: 82\n",
      "Type I error rate (false positives): 0.0389\n",
      "Type II error rate (false negatives): 0.1800\n"
     ]
    }
   ],
   "source": [
    "print_error_rates(test, 0)"
   ]
  },
  {
   "cell_type": "markdown",
   "metadata": {},
   "source": [
    "### Controlling FWER and FDR"
   ]
  },
  {
   "cell_type": "markdown",
   "metadata": {},
   "source": [
    "In the world of multiple testing, the Type I error rate might refer to one of two things: the Family-Wise Error Rate (FWER) or the False Discovery Rate (FDR).\n",
    "\n",
    "FWER is the probability that we reject at least one true null hypothesis. FDR is the expected fraction of false rejections out of all rejections and zero if there are no rejections."
   ]
  },
  {
   "cell_type": "markdown",
   "metadata": {},
   "source": [
    "### Bonferroni correction. Family-wise error rate (FWER)"
   ]
  },
  {
   "cell_type": "markdown",
   "metadata": {},
   "source": [
    "1. Denote by $p_{i}$ the p-value for testing $H_{i}$\n",
    "2. Reject $H_{i}$ if $p_{i} \\le \\frac{\\alpha}{m}$"
   ]
  },
  {
   "cell_type": "code",
   "execution_count": 663,
   "metadata": {},
   "outputs": [
    {
     "name": "stdout",
     "output_type": "stream",
     "text": [
      "Alpha: 0.00005\n"
     ]
    }
   ],
   "source": [
    "bonf_test = prob > alpha/numtests\n",
    "print(\"Alpha: %.5f\"%(alpha/numtests))"
   ]
  },
  {
   "cell_type": "code",
   "execution_count": 664,
   "metadata": {
    "collapsed": true
   },
   "outputs": [],
   "source": [
    "# from statsmodels.stats.multitest\n",
    "# rej, pval_corr = smm.multipletests(prob, alpha=0.05, method='b')[:2]"
   ]
  },
  {
   "cell_type": "code",
   "execution_count": 665,
   "metadata": {},
   "outputs": [
    {
     "name": "stdout",
     "output_type": "stream",
     "text": [
      "True: 900\n",
      "False: 0\n",
      "True: 88\n",
      "False: 12\n",
      "Type I error rate (false positives): 0.0000\n",
      "Type II error rate (false negatives): 0.8800\n"
     ]
    }
   ],
   "source": [
    "print_error_rates(bonf_test, 0)"
   ]
  },
  {
   "cell_type": "markdown",
   "metadata": {},
   "source": [
    "We decreased the <b>Type I error (false positives)</b> but increased the <b>Type II error (false negatives)</b>.\n",
    "\n",
    "Now we have 0 false positive rate, meaning we don't have false positives at all, but the value of false negatives is quite high, meaning we falsly accepted many null hypothesis (x's are close to zero when they are actually not).\n",
    "\n",
    "The Bonferroni correction is appropriate when a single false positive in a set of tests would be a problem. It is mainly useful when there are a fairly small number of multiple comparisons and you're looking for one or two that might be significant. However, if you have a large number of multiple comparisons and you're looking for many that might be significant, the Bonferroni correction may lead to a very high rate of false negatives.\n",
    "\n",
    "This correction works in the worst-case scenario that all tests are independent. But in most cases, tests are not independent. That is, if your treatment moves outcome A, it probably moves outcome B too, at least a little. But it does not requires for tests to be independent."
   ]
  },
  {
   "cell_type": "markdown",
   "metadata": {},
   "source": [
    "### Sidak correction (FWER)"
   ]
  },
  {
   "cell_type": "markdown",
   "metadata": {},
   "source": [
    "1. Testing each hypothesis at level $\\alpha_{SID}=1-(1-\\alpha )^\\frac{1}{m}$ is Sidak's multiple testing procedure.\n",
    "2. This procedure is more powerful than Bonferroni but the gain is small.\n",
    "3. This procedure can fail to control the FWER when the tests are negatively dependent."
   ]
  },
  {
   "cell_type": "code",
   "execution_count": 666,
   "metadata": {},
   "outputs": [
    {
     "name": "stdout",
     "output_type": "stream",
     "text": [
      "True: 900\n",
      "False: 0\n",
      "True: 88\n",
      "False: 12\n",
      "Type I error rate (false positives): 0.0000\n",
      "Type II error rate (false negatives): 0.8800\n"
     ]
    }
   ],
   "source": [
    "p_val_corrected = (1 - (1 - prob)**(numtests)) > alpha\n",
    "print_error_rates(p_val_corrected, 0)"
   ]
  },
  {
   "cell_type": "code",
   "execution_count": 667,
   "metadata": {},
   "outputs": [
    {
     "name": "stdout",
     "output_type": "stream",
     "text": [
      "True: 900\n",
      "False: 0\n",
      "True: 88\n",
      "False: 12\n",
      "Type I error rate (false positives): 0.0000\n",
      "Type II error rate (false negatives): 0.8800\n"
     ]
    }
   ],
   "source": [
    "# with stat package\n",
    "rej_sidak, pval_corr_sidak = smm.multipletests(prob, alpha=alpha, method='s')[:2]\n",
    "accept_sidak = [not i for i in rej_sidak] \n",
    "print_error_rates(accept_sidak, 0)"
   ]
  },
  {
   "cell_type": "markdown",
   "metadata": {},
   "source": [
    "The Sidak method assumes that each comparison is independent of the others. If there is no such assumption, the Bonferroni method should be used instead."
   ]
  },
  {
   "cell_type": "markdown",
   "metadata": {},
   "source": [
    "### Simes-Hochberg (FWER)"
   ]
  },
  {
   "cell_type": "markdown",
   "metadata": {},
   "source": [
    "Simes-Hochberg is a step-up method that uses a Bonferroni correction at each step similar to Holm's method. This test is valid under independence and under some forms of positive dependence of p-values. Simes-Hochberg is more powerful than Holm's method under independence."
   ]
  },
  {
   "cell_type": "code",
   "execution_count": 668,
   "metadata": {},
   "outputs": [
    {
     "name": "stdout",
     "output_type": "stream",
     "text": [
      "True: 900\n",
      "False: 0\n",
      "True: 88\n",
      "False: 12\n",
      "Type I error rate (false positives): 0.0000\n",
      "Type II error rate (false negatives): 0.8800\n"
     ]
    }
   ],
   "source": [
    "rej_simes, pval_corr_simes = smm.multipletests(prob, alpha=alpha, method='simes-hochberg')[:2]\n",
    "accept_simes= [not i for i in rej_simes] \n",
    "print_error_rates(accept_simes, 0)"
   ]
  },
  {
   "cell_type": "markdown",
   "metadata": {},
   "source": [
    "### Hommel (FWER)"
   ]
  },
  {
   "cell_type": "code",
   "execution_count": 669,
   "metadata": {},
   "outputs": [
    {
     "name": "stdout",
     "output_type": "stream",
     "text": [
      "True: 900\n",
      "False: 0\n",
      "True: 88\n",
      "False: 12\n",
      "Type I error rate (false positives): 0.0000\n",
      "Type II error rate (false negatives): 0.8800\n"
     ]
    }
   ],
   "source": [
    "rej_hommel, pval_corr_hommel = smm.multipletests(prob, alpha=alpha, method='hommel')[:2]\n",
    "accept_hommel= [not i for i in rej_hommel]\n",
    "print_error_rates(accept_hommel, 0)"
   ]
  },
  {
   "cell_type": "markdown",
   "metadata": {},
   "source": [
    "### False discovery rate (FWER). Holm's step-down procedure."
   ]
  },
  {
   "cell_type": "markdown",
   "metadata": {},
   "source": [
    "This method doesn't assume the independence of statistical tests, but is more powerful than the other FWER correction methods.\n",
    "The procedure is:\n",
    "\n",
    "1. Order p-values in increasing order $P_{(1)} \\dots P_{(m)}$ and let the associated hypotheses be $H_{(1)} \\dots H_{(m)}$\n",
    "2. Let k be the minimal index such that :\n",
    "$$P_{(k)} > \\frac{\\alpha}{m+1-k}$$\n",
    "3. Reject the null hypotheses $H_{(1)} \\dots H_{(k-1)}$"
   ]
  },
  {
   "cell_type": "code",
   "execution_count": 670,
   "metadata": {},
   "outputs": [],
   "source": [
    "prob_sorted = np.sort(prob)\n",
    "\n",
    "fdrtest = None\n",
    "for i in range(numtests):\n",
    "    position_value = prob[i] > next(i for i,x in enumerate(prob_sorted) if x == prob[i]) * alpha/numtests\n",
    "    fdrtest = np.append(fdrtest, position_value)"
   ]
  },
  {
   "cell_type": "code",
   "execution_count": 671,
   "metadata": {},
   "outputs": [
    {
     "name": "stdout",
     "output_type": "stream",
     "text": [
      "True: 896\n",
      "False: 3\n",
      "True: 51\n",
      "False: 50\n",
      "Type I error rate (false positives): 0.0033\n",
      "Type II error rate (false negatives): 0.5000\n"
     ]
    }
   ],
   "source": [
    "print_error_rates(fdrtest, 1)"
   ]
  },
  {
   "cell_type": "markdown",
   "metadata": {},
   "source": [
    "FWER control exerts a more stringent control over false discovery compared to false discovery rate (FDR) procedures. FWER control limits the probability of at least one false discovery, whereas FDR control limits (in a loose sense) the expected proportion of false discoveries. Thus, FDR procedures have greater power at the cost of increased rates of type I errors, i.e., rejecting null hypotheses that are actually true."
   ]
  },
  {
   "cell_type": "code",
   "execution_count": 672,
   "metadata": {},
   "outputs": [
    {
     "data": {
      "image/png": "[encoded data removed]",
      "text/plain": [
       "<matplotlib.figure.Figure at 0x116c042d0>"
      ]
     },
     "metadata": {},
     "output_type": "display_data"
    }
   ],
   "source": [
    "plt.figure(figsize=(10,5))\n",
    "#plt.axis([0, 0.1, 0, 1.3])\n",
    "plt.plot(np.sort(prob), np.sort(bonf_test), label='Bonferroni')\n",
    "plt.plot(np.sort(prob), np.sort(pval_corr_sidak), label='Sidak')\n",
    "plt.plot(np.sort(prob), np.sort(pval_corr_simes), label='Simes')\n",
    "plt.plot(np.sort(prob), np.sort(pval_corr_hommel), label='Hommel')\n",
    "plt.plot(np.sort(prob), np.sort(fdrtest[1:]), label='Holm')\n",
    "plt.plot(np.sort(prob), np.sort(pval_corr_bh_nn), label='Benjamini-Hochberg')\n",
    "plt.plot(np.sort(prob), np.sort(pval_corr_bn_nn_2), label='Benjamini-Hochberg, 2 staged')\n",
    "plt.plot(np.sort(prob), np.sort(pval_corr_by_n), label='Benjamini-Yekutieli')\n",
    "plt.plot(np.sort(prob), np.sort(pval_corr_bky), label='Benjamini-Krieger-Yekutieli')\n",
    "plt.legend(loc='upper right')\n",
    "plt.show()\n"
   ]
  },
  {
   "cell_type": "markdown",
   "metadata": {},
   "source": [
    "### Benjamini-Hochberg (FDR)"
   ]
  },
  {
   "cell_type": "markdown",
   "metadata": {},
   "source": [
    "fdr_bh is the step-up procedure by Benjamini and Hochberg (1995) that controls the FDR under independence and is robust to some form of positive dependence of the p-values. "
   ]
  },
  {
   "cell_type": "code",
   "execution_count": 673,
   "metadata": {},
   "outputs": [
    {
     "name": "stdout",
     "output_type": "stream",
     "text": [
      "True: 898\n",
      "False: 2\n",
      "True: 52\n",
      "False: 48\n",
      "Type I error rate (false positives): 0.0022\n",
      "Type II error rate (false negatives): 0.5200\n"
     ]
    }
   ],
   "source": [
    "rej_bh_nn, pval_corr_bh_nn = smm.multipletests(prob, alpha=alpha, method='fdr_bh')[:2]\n",
    "accept_sidak = [not i for i in rej_bh_nn]\n",
    "print_error_rates(accept_sidak, 0)"
   ]
  },
  {
   "cell_type": "code",
   "execution_count": 674,
   "metadata": {},
   "outputs": [
    {
     "name": "stdout",
     "output_type": "stream",
     "text": [
      "True: 898\n",
      "False: 2\n",
      "True: 52\n",
      "False: 48\n",
      "Type I error rate (false positives): 0.0022\n",
      "Type II error rate (false negatives): 0.5200\n"
     ]
    }
   ],
   "source": [
    "# two staged\n",
    "rej_bn_nn_2, pval_corr_bn_nn_2 = smm.multipletests(prob, alpha=alpha, method='fdr_tsbh')[:2]\n",
    "accept_bh_nn= [not i for i in rej_bn_nn_2] \n",
    "print_error_rates(accept_bh_nn, 0)"
   ]
  },
  {
   "cell_type": "markdown",
   "metadata": {},
   "source": [
    "### Benjamini-Yekutieli"
   ]
  },
  {
   "cell_type": "markdown",
   "metadata": {},
   "source": [
    "fdr_by is the step-up procedure by Benjamini and Yekutiely (2001) that controls the FDR also for other forms of dependence including the case when the p-values are negatively correlated."
   ]
  },
  {
   "cell_type": "code",
   "execution_count": 675,
   "metadata": {},
   "outputs": [
    {
     "name": "stdout",
     "output_type": "stream",
     "text": [
      "True: 900\n",
      "False: 0\n",
      "True: 85\n",
      "False: 15\n",
      "Type I error rate (false positives): 0.0000\n",
      "Type II error rate (false negatives): 0.8500\n"
     ]
    }
   ],
   "source": [
    "rej_by_n, pval_corr_by_n = smm.multipletests(prob, alpha=alpha, method='fdr_by')[:2]\n",
    "accept_by_n= [not i for i in rej_by_n] \n",
    "print_error_rates(accept_by_n, 0)"
   ]
  },
  {
   "cell_type": "markdown",
   "metadata": {},
   "source": [
    "### Benjamini-Krieger-Yekutieli"
   ]
  },
  {
   "cell_type": "markdown",
   "metadata": {},
   "source": [
    "This is the adaptive two-staged method that estimates or adjusts to the number of true null hypotheses. fdr_tsbky uses a different corrected alpha in both the first and the second stages, based on Benjamini, Krieger and Yekutieli (2006)."
   ]
  },
  {
   "cell_type": "code",
   "execution_count": 676,
   "metadata": {},
   "outputs": [
    {
     "name": "stdout",
     "output_type": "stream",
     "text": [
      "True: 898\n",
      "False: 2\n",
      "True: 52\n",
      "False: 48\n",
      "Type I error rate (false positives): 0.0022\n",
      "Type II error rate (false negatives): 0.5200\n"
     ]
    }
   ],
   "source": [
    "rej_bky, pval_corr_bky = smm.multipletests(prob, alpha=alpha, method='fdr_tsbky')[:2]\n",
    "accept_bky= [not i for i in rej_bky] \n",
    "print_error_rates(accept_bky, 0)"
   ]
  },
  {
   "cell_type": "markdown",
   "metadata": {},
   "source": [
    "### Summary table"
   ]
  },
  {
   "cell_type": "markdown",
   "metadata": {},
   "source": [
    "Type I error and type II error\n",
    "\n",
    "|alpha|0.0001|0.001|0.01|0.025|0.05|0.1|Type II error|0.0001|0.001|0.01|0.025|0.05|0.1|\n",
    "|------|------|\n",
    "|<b>Control Family-wise Error Rate</b>||||||||||||||\n",
    "|Uncorrected|0|0.0011|0.0044|0.0167|0.0389|0.0900||0.8500|0.7000|0.3400|0.2400|0.1800|0.1000|\n",
    "|Bonferroni|0|0|0|0|0|0||1.0000|0.9900|0.9500|0.9000|0.8800|0.8500|\n",
    "|Sidak|0|0|0|0|0|0||1.0000|0.9900|0.9500|0.9000|0.8800|0.8500|\n",
    "|Simes-Hochberg|0|0|0|0|0|0||1.0000|0.9900|0.9500|0.9000|0.8800|0.8500|\n",
    "|Hommel|0|0|0|0|0|0||1.0000|0.9900|0.9500|0.9000|0.8800|0.8500|\n",
    "|<i>Holm</i>|0|0|0.0011|0.0011|<b>0.0033</b>|0.0033||0.9500|0.6900|0.7000|0.6100|<b>0.5</b>|0.3800|\n",
    "|<b>Control False Discovery Rate</b>||||||||||||||\n",
    "|<i>Benjamini-Hochberg</i>|0|0|0|0.0011|<b>0.0022</b>|0.0033||1.0000|0.9500|0.8500|0.7000|<b>0.5200</b>|0.3800|\n",
    "|Benjamini-Yekutieli|0|0|0|0|0|0.0011||1.0000|1.0000|0.9500|0.8900|0.8500|0.8200|\n",
    "|Benjamini-Krieger-Yekutieli|0|0|0|0.0011|0.0022|0.0033||1.0000|0.9500|0.8500|0.7000|0.5200|0.3800|"
   ]
  },
  {
   "cell_type": "markdown",
   "metadata": {},
   "source": [
    "All methods here either control the family-wise error rate (FWER) or the false discovery rate (FDR).\n",
    "\n",
    "From the results above we can notice that <b>Bonferroni</b> method very conservative, but his may have a plus side. If we have two hypothesis: H0: treatment had no effect on control and H1: there was a significant effect of treatement on control we may be more confident to have more false negatives(falsly accepting null hypothesis by saying there were no effect when, in fact, there was) than more false positives(falsly rejecting null hypothesis by saying there were an effect on control when there is none). Obviously, for both ways we lose a chance of improvement, but having more false positives does not leave us at a high risk.\n",
    "In our experimentation it created a high false positive rate which may affect the decision.\n",
    "\n",
    "Is it also very simple in implementing and undestanding and does not require independence of tests.\n",
    "\n",
    "<b>Sidak</b> method is less conservative and less stringent than Bonferroni (but may be very slightly) and exact for tests that are stochastically independent, conservative for tests that are positively dependent, and is liberal for tests that are negatively dependent. But this method is not a good replacement in case you are not sure about the independence or dependence of your statistical tests.\n",
    "\n",
    "<b>Simes-Hochberg</b> is very similar procedure to Hochberg(RDF) but controls he FWER in the weak sense (under the intersection null hypothesis) when the statistics are independent. But it is not a good replacement to other FWER correction methods.\n",
    "    \n",
    "<b>Holm's step-down</b> method  is uniformly more powerful than the classic Bonferroni method.It reduces the false positive rate and do not produce high false negative rate.\n",
    "\n",
    "Among RDF correction strategies the most common and straigtforward is <b>Benjamini-Hochberg</b> step-up method. It reduces False discovery rate or the proportion of false discoveries among all discoveries and is robust to some form of positive dependence of the p-values. Other RDF methods (<b>Benjamini-Yekutieli, Benjamini-Krieger-Yekutieli</b>) are variations of the above method.\n",
    "  \n",
    "Finally:\n",
    "If we suspect that there are false hypothesis in our set of tests, then the methods that control the FDR are more powerful in rejecting false null hypothesis at the cost of a small increase in a family-wise number of rejected true null hypotheses. Among the FWER controlling procedures Bonferroni is the most simplest but at the same time the most conservative method. Holm's method seem to be the most poverful among FWER controlling methods. \n",
    "Among the methods that control the FDR, Benjamini-Hochberg seems to have the best properties."
   ]
  }
 ],
 "metadata": {
  "kernelspec": {
   "display_name": "Python 2",
   "language": "python",
   "name": "python2"
  },
  "language_info": {
   "codemirror_mode": {
    "name": "ipython",
    "version": 2
   },
   "file_extension": ".py",
   "mimetype": "text/x-python",
   "name": "python",
   "nbconvert_exporter": "python",
   "pygments_lexer": "ipython2",
   "version": "2.7.13"
  }
 },
 "nbformat": 4,
 "nbformat_minor": 2
}
